{
 "cells": [
  {
   "cell_type": "markdown",
   "id": "d66880e8-23d9-4f00-b120-7f289f682511",
   "metadata": {},
   "source": [
    "# Prompt optimisation"
   ]
  },
  {
   "cell_type": "code",
   "execution_count": 1,
   "id": "36a9c615-17a0-455c-8f9c-f0d25fb8824b",
   "metadata": {
    "ExecuteTime": {
     "end_time": "2024-06-11T15:43:10.594204491Z",
     "start_time": "2024-06-11T15:43:10.589328053Z"
    }
   },
   "outputs": [],
   "source": [
    "from hone import get_instill_engine\n",
    "import textgrad as tg\n",
    "from textgrad.autograd.function import BackwardContext\n",
    "from instill.clients import init_pipeline_client\n",
    "from google.protobuf.json_format import MessageToDict\n",
    "import os\n",
    "pipeline = init_pipeline_client(api_token=os.environ[\"INSTILL_API_TOKEN\"])"
   ]
  },
  {
   "cell_type": "code",
   "execution_count": 2,
   "id": "9f8d37ea",
   "metadata": {},
   "outputs": [],
   "source": [
    "engine = get_instill_engine(\n",
    "    \"gpt-3.5-turbo\",\n",
    "    namespace_id=\"george_strong\",\n",
    "    pipeline_id=\"textgrad-engine\"\n",
    ")"
   ]
  },
  {
   "cell_type": "code",
   "execution_count": 3,
   "id": "f3888daf",
   "metadata": {},
   "outputs": [],
   "source": [
    "def retrieve_fn(revisor_prompt, user_query,\n",
    "                namespace_id=\"george_strong\",\n",
    "                catalog_name=\"brown_bears\",\n",
    "                top_k=7,\n",
    "                pipeline=pipeline):\n",
    "\n",
    "    retrieve_response = MessageToDict(\n",
    "        pipeline.trigger(\n",
    "            namespace_id=namespace_id,\n",
    "            pipeline_id=\"semantic-search\",\n",
    "            data=[{\n",
    "                \"catalog-name\": catalog_name,\n",
    "                \"namespace\": namespace_id,\n",
    "                \"revisor-prompt\": revisor_prompt.value,\n",
    "                \"top-k\": top_k,\n",
    "                \"user-query\": user_query.value\n",
    "            }]\n",
    "        )\n",
    "    )\n",
    "\n",
    "    return str(retrieve_response['outputs'][0]['retrieved-chunks'])"
   ]
  },
  {
   "cell_type": "code",
   "execution_count": 4,
   "id": "1db6ffc2",
   "metadata": {},
   "outputs": [],
   "source": [
    "class RetrieveFunction(tg.autograd.StringBasedFunction):\n",
    "    def __init__(self, fn, function_purpose):\n",
    "        super().__init__(\n",
    "            fn=fn,\n",
    "            function_purpose=function_purpose\n",
    "        )\n",
    "\n",
    "    def forward(self, revisor_prompt_var: tg.Variable, user_query_var: tg.Variable) -> tg.Variable:\n",
    "        # Convert string inputs to Variables\n",
    "        inputs = {\n",
    "            \"revisor_prompt\": revisor_prompt_var,\n",
    "            \"user_query\": user_query_var,\n",
    "        }\n",
    "\n",
    "        # Get chunks using the function\n",
    "        chunks = self.fn(**inputs)\n",
    "\n",
    "        # Create response variable with proper context\n",
    "        response = tg.Variable(\n",
    "            value=chunks,\n",
    "            predecessors=[revisor_prompt_var, user_query_var],\n",
    "            role_description=\"retrieved chunks\",\n",
    "            requires_grad=True\n",
    "        )\n",
    "\n",
    "        # Set gradient function\n",
    "        response.set_grad_fn(BackwardContext(\n",
    "            backward_fn=self.backward,\n",
    "            response=response,\n",
    "            function_purpose=self.function_purpose,\n",
    "            inputs=inputs\n",
    "        ))\n",
    "\n",
    "        return response"
   ]
  },
  {
   "cell_type": "code",
   "execution_count": 5,
   "id": "f52047f5",
   "metadata": {},
   "outputs": [],
   "source": [
    "retrieve = RetrieveFunction(\n",
    "    fn=retrieve_fn,\n",
    "    function_purpose=\"Revise the user query using revisor prompt and retrieve relevant chunks using revised query\"\n",
    ")"
   ]
  },
  {
   "cell_type": "code",
   "execution_count": 6,
   "id": "f1f29320",
   "metadata": {},
   "outputs": [],
   "source": [
    "revisor_prompt = tg.Variable(\"make a search query\", role_description=\"The query revisor prompt. This should not be specific, but rather instructs a LLM to make the provided user query better for search\")\n",
    "user_query = tg.Variable(\"where do bears live?\", role_description=\"The user query\", requires_grad=False)\n",
    "\n",
    "test = retrieve(revisor_prompt, user_query)"
   ]
  },
  {
   "cell_type": "code",
   "execution_count": 7,
   "id": "612f6b73",
   "metadata": {},
   "outputs": [],
   "source": [
    "\n",
    "#test = retrieve(revisor_prompt, user_query)"
   ]
  },
  {
   "cell_type": "code",
   "execution_count": 8,
   "id": "ba154b18",
   "metadata": {},
   "outputs": [],
   "source": [
    "system_prompt = tg.Variable(\"Evaluate how relevant the retrieved chunks are to the user query\", role_description=\"The system prompt\")\n",
    "loss = tg.TextLoss(system_prompt, engine=engine)"
   ]
  },
  {
   "cell_type": "code",
   "execution_count": 9,
   "id": "0f2fbd02",
   "metadata": {},
   "outputs": [],
   "source": [
    "optimizer = tg.TextualGradientDescent(parameters=[revisor_prompt], engine=engine)"
   ]
  },
  {
   "cell_type": "code",
   "execution_count": 10,
   "id": "6cfec0ba",
   "metadata": {},
   "outputs": [],
   "source": [
    "# Convert user query to a Variable with proper formatting\n",
    "user_query.value = f\"User Query: {user_query}\\n\\n\"\n",
    "\n",
    "# Format the test results variable\n",
    "test.value = f\"Retrieved Information:\\n{test.value}\""
   ]
  },
  {
   "cell_type": "code",
   "execution_count": 11,
   "id": "82d60e90",
   "metadata": {},
   "outputs": [
    {
     "name": "stderr",
     "output_type": "stream",
     "text": [
      "2024-12-06 11:52:41,487.487 INFO     LLMCall function forward\n"
     ]
    }
   ],
   "source": [
    "loss_value = loss(user_query + test)"
   ]
  },
  {
   "cell_type": "code",
   "execution_count": 12,
   "id": "6f5db046",
   "metadata": {},
   "outputs": [
    {
     "data": {
      "text/plain": [
       "'The retrieved chunks provide relevant information regarding the habitats of brown bears, which partially addresses the user query about where bears live. Here is an evaluation of the relevance of each chunk:\\n\\n1. **Chunk 1**: Discusses habitat protection and the need for large, undisturbed areas for brown bears, highlighting the impact of human activities on their habitats. This is relevant as it provides context on the types of environments brown bears require.\\n\\n2. **Chunk 2**: Focuses on the diet of brown bears rather than their habitat, making it less relevant to the query about where bears live.\\n\\n3. **Chunk 3**: Lists specific regions where brown bears are found, such as Russia, the United States, and Canada. This directly answers the query by providing geographical locations of brown bear habitats.\\n\\n4. **Chunk 4**: Describes the physical characteristics of brown bears rather than their habitat, making it less relevant to the query.\\n\\n5. **Chunk 5**: Provides a broad overview of the diverse habitats brown bears can inhabit, from high altitudes to sea level, and mentions their adaptability to various environments. This is relevant as it describes the range of habitats where brown bears can live.\\n\\n6. **Chunk 6**: Discusses threats to brown bear habitats, such as habitat loss and fragmentation, which indirectly relates to where they live by highlighting the challenges to their living environments.\\n\\n7. **Chunk 7**: Focuses on conservation issues related to habitat destruction and fragmentation, which is relevant in understanding the challenges to bear habitats but does not directly answer where bears live.\\n\\nOverall, chunks 1, 3, and 5 are the most relevant to the user query as they provide information on the types of habitats and specific regions where brown bears live. The other chunks offer additional context but are less directly related to the query.'"
      ]
     },
     "execution_count": 12,
     "metadata": {},
     "output_type": "execute_result"
    }
   ],
   "source": [
    "loss_value.value"
   ]
  },
  {
   "cell_type": "code",
   "execution_count": 13,
   "id": "6a0ba913",
   "metadata": {},
   "outputs": [
    {
     "name": "stderr",
     "output_type": "stream",
     "text": [
      "2024-12-06 11:52:41,500.500 INFO     _backward_through_llm prompt\n",
      "2024-12-06 11:52:48,139.139 INFO     _backward_through_llm gradient\n",
      "2024-12-06 11:52:48,139.139 INFO     _backward_through_llm prompt\n",
      "2024-12-06 11:52:54,309.309 INFO     _backward_through_llm gradient\n",
      "2024-12-06 11:52:54,311.311 INFO     Idempotent backward\n",
      "2024-12-06 11:52:54,311.311 INFO     Idempotent backward\n",
      "2024-12-06 11:52:54,312.312 INFO     _backward_through_string_fn\n",
      "2024-12-06 11:53:02,236.236 INFO     _backward_through_string_fn gradient\n"
     ]
    }
   ],
   "source": [
    "loss_value.backward(engine)"
   ]
  },
  {
   "cell_type": "code",
   "execution_count": 14,
   "id": "1e714f0b",
   "metadata": {},
   "outputs": [
    {
     "data": {
      "text/plain": [
       "{Variable(value=To improve the query revisor prompt and better align with the objective function, consider the following feedback:\n",
       " \n",
       " 1. **Encourage Specificity**: The current prompt \"make a search query\" is too vague and does not guide the LLM to refine the user query effectively. Encourage the LLM to ask clarifying questions or suggest more specific terms. For example, it could prompt the user to specify the type of bear or the geographical area of interest, which would help in retrieving more relevant information.\n",
       " \n",
       " 2. **Incorporate Contextual Awareness**: The prompt should instruct the LLM to consider the context of the query. For instance, if the query is about animal habitats, the LLM should prioritize refining the query to focus on geographical and environmental aspects rather than unrelated topics like diet or behavior.\n",
       " \n",
       " 3. **Guide Towards Relevance**: The prompt should encourage the LLM to focus on the core intent of the query. In this case, the intent is to find out where bears live. The LLM should be guided to revise the query to emphasize habitat and location, potentially by suggesting keywords like \"habitat,\" \"range,\" or \"distribution.\"\n",
       " \n",
       " 4. **Promote Diversity in Sources**: The prompt could instruct the LLM to consider the diversity of sources when revising the query. This would help ensure that the revised query is broad enough to capture information from various sources, covering different bear species and their habitats.\n",
       " \n",
       " 5. **Encourage User Interaction**: The prompt could include a mechanism for the LLM to interact with the user to refine the query further. For example, it could suggest follow-up questions or options for the user to choose from, which would help in narrowing down the search focus.\n",
       " \n",
       " 6. **Incorporate Feedback Mechanisms**: The prompt should encourage the LLM to incorporate user feedback into the query revision process. This could involve asking the user if the revised query aligns with their intent or if further adjustments are needed.\n",
       " \n",
       " By implementing these strategies, the query revisor prompt can be more effective in guiding the LLM to produce refined queries that lead to more relevant and useful search results, thereby improving the overall retrieval process., role=feedback to The query revisor prompt. This should not be specific, but rather instructs a LLM to make the provided user query better for search, grads=set())}"
      ]
     },
     "execution_count": 14,
     "metadata": {},
     "output_type": "execute_result"
    }
   ],
   "source": [
    "revisor_prompt.gradients"
   ]
  },
  {
   "cell_type": "code",
   "execution_count": 15,
   "id": "70ec6f6c",
   "metadata": {},
   "outputs": [
    {
     "name": "stderr",
     "output_type": "stream",
     "text": [
      "2024-12-06 11:53:02,248.248 INFO     TextualGradientDescent prompt for update\n",
      "2024-12-06 11:53:05,146.146 INFO     TextualGradientDescent optimizer response\n",
      "2024-12-06 11:53:05,148.148 INFO     TextualGradientDescent updated text\n"
     ]
    }
   ],
   "source": [
    "optimizer.step()"
   ]
  },
  {
   "cell_type": "code",
   "execution_count": 16,
   "id": "96211c53",
   "metadata": {},
   "outputs": [
    {
     "data": {
      "text/plain": [
       "\"Retrieved Information:\\n[{'chunk-uid': '1780f503-d8c2-41d3-b772-983b70f2c8bb', 'source-file-name': 'Brown_bear_factsheet.pdf', 'similarity-score': 0.60865873, 'text-content': 'Below we detail some of the initiatives already taking place, together with those additionally required, to ameliorate these issues.\\\\n\\\\n#### Habitat protection and restoration\\\\n\\\\nAll bears are wide-ranging, and excepting the polar bear, brown bears have the largest ranges of all; needing large areas of undisturbed habitat if they are to thrive. With a rapidly growing human population, the pressures on brown bear habitat are significant in many of the places where they are found. Direct pressure from human habitation is not often significant as brown bears are usually found in very remote areas. However, indirect pressure caused by logging, clearance of land for agriculture, mining, and oil drilling is a serious problem in many places. Given the requirement for extensive ranges, habitat fragmentation can be just as serious an issue as wholesale habitat destruction.\\\\n\\\\n#### Reduction in conflicts through education and design'}, {'chunk-uid': '24ba950a-7fbe-40dc-a30a-74866631ab2a', 'source-file-name': 'Brown_bear_factsheet.pdf', 'similarity-score': 0.5990061, 'text-content': 'Brown bears are truly omnivorous with a diet varying from habitat to habitat and from season to season. Although they generally have a reputation as fearsome predators, this is largely untrue; in most cases, the majority of their diet is of vegetative origin and can include grasses, sedges, forbs (flowering plants), nuts, berries, fruits, roots, tubers, and bulbs. In addition, and depending upon location, they also consume small mammals, reptiles, honey, insects, and fish (notably salmon).\\\\n\\\\n![Brown bear feeding on salmon in the Kodiak National Wildlife Refuge (US Fish & Wildlife Service)](image1.jpg)\\\\n\\\\n9 Brown Bear Fact Sheet [www.bearconservation.org.uk](http://www.bearconservation.org.uk) Working for Bears Worldwide\\\\n\\\\n### SOCIAL BEHAVIOUR'}, {'chunk-uid': '43559da2-acc7-428b-9ca2-333b07315011', 'source-file-name': 'Brown_bear_factsheet.pdf', 'similarity-score': 0.59485203, 'text-content': 'The bears’ principal range includes parts of Russia, the United States, Canada, the Carpathian region (especially in Romania), the Balkans, Sweden, and Finland.\\\\n\\\\nBrown bears are omnivorous and typically are solitary animals, except for females with cubs. However, at times certain populations do congregate; for example, large gatherings occur during the Alaskan salmon spawning run. Dozens of bears may gather to feed on the fish to rapidly build up energy stores for their winter hibernation and they will eat as much as 40 kilograms of food each day.\\\\n\\\\nThe bears build winter dens for their hibernation and may lose as much as fifty percent of their body weight whilst hibernating. Pregnant females give birth during hibernation, in the den, usually to a pair of cubs. The cubs will remain with their mother for about two and a half years, during which time she will not become pregnant again.\\\\n\\\\n1 Brown Bear Fact Sheet [www.bearconservation.org.uk](http://www.bearconservation.org.uk) Working for Bears Worldwide'}, {'chunk-uid': '4c524cd1-fe56-4f51-8513-b89f7b20f362', 'text-content': '## DESCRIPTION\\\\n\\\\nThe genus (Ursus) and species (arctos) names of the brown bear highlight the fact that this is what most think of as the archetypal bear. In Latin and Greek respectively both names mean “bear”; so the brown bear is the BEAR BEAR. They are a large bear and have long, thick, fur with a distinct mane at the back of the neck. They have large, curved claws. The pelage varies from almost white through to almost black although brown predominates and Indian brown bears can be reddish. The United States subspecies U. arctos horribilis takes its common name of the grizzly bear from the often grey or white tipped fur which gives them a grizzled appearance.\\\\n\\\\n![Brown bear, Kodiak National Wildlife Refuge, Alaska (US Fish & Wildlife Service - Steve Hillebrand)](https://www.bearconservation.org.uk/wp-content/uploads/2020/06/Brown-bear-Kodiak-National-Wildlife-Refuge-Alaska-US-Fish-Wildlife-Service-Steve-Hillebrand.jpg)', 'similarity-score': 0.5485579, 'source-file-name': 'Brown_bear_factsheet.pdf'}, {'chunk-uid': '7096efb8-ee57-48f7-b56a-b41cf980f3f5', 'source-file-name': 'Brown_bear_factsheet.pdf', 'similarity-score': 0.5475026, 'text-content': '![Map showing brown bears in Europe](image4.png)\\\\n\\\\nBrown bears in Europe (Map supplied by the European Commission)\\\\n\\\\n**HABITAT**\\\\n\\\\n*Ursus arctos* inhabits a broader and more diverse range of habitats than any other bear species. They are found from as high as 5,000 metres in the Himalaya down to sea-level in a number of regions. They survive successfully in icy conditions and deserts, in forests and on tundra, in meadows and on coastlines. Their main requirements are dense cover in which to shelter, usually by day, and in cooler regions suitable places in which to build winter dens for hibernation. It seems likely that increasing encroachment by humans has caused brown bears to favour wooded and semi-wooded habitats whereas historically they would have favoured open or semi-open country at least as much.\\\\n### DIET'}, {'chunk-uid': 'c0d40c18-df79-41f9-8e68-2d48b0580b25', 'source-file-name': 'Brown_bear_factsheet.pdf', 'similarity-score': 0.5350634, 'text-content': 'For more specific descriptions of habitat, diet, and life cycle, please refer to the individual pages for each subspecies of brown bear and to the reading list.\\\\n\\\\n### CURRENT SITUATION\\\\n\\\\nProbably the single greatest threat to the brown bear populations of the world is habitat loss. These bears require large areas of wilderness, and their habitats are threatened by development, forestry, mining and oil prospecting, road building, climate change, and increasing recreational use. A knock-on effect of the destruction is increasing fragmentation of brown bear populations and sub-populations, leading to reduced breeding opportunities and a resultant reduction in genetic diversity.'}, {'chunk-uid': 'f5bcc2a9-087a-484e-9f55-5179698a0af9', 'source-file-name': 'Brown_bear_factsheet.pdf', 'similarity-score': 0.5313473, 'text-content': '### CONSERVATION\\\\n\\\\nWhilst some individual populations of brown bears face conservation issues unique to them, there are a number of critical factors which are common to all:\\\\n\\\\n- Habitat destruction and fragmentation\\\\n- Conflicts with humans (predominantly food-related)\\\\n- Poaching (coupled in some populations with unsustainable levels of hunting)\\\\n- Climate change and its effect upon the ecology of bear habitat\\\\n\\\\nBelow we detail some of the initiatives already taking place, together with those additionally required, to ameliorate these issues.\\\\n\\\\n#### Habitat protection and restoration'}]\""
      ]
     },
     "execution_count": 16,
     "metadata": {},
     "output_type": "execute_result"
    }
   ],
   "source": [
    "test.value"
   ]
  },
  {
   "cell_type": "code",
   "execution_count": 17,
   "id": "bd7066cc",
   "metadata": {},
   "outputs": [
    {
     "data": {
      "text/plain": [
       "'Refine the user query to enhance search relevance by considering specificity, context, and core intent. Encourage clarifying questions or suggest specific terms related to the topic, such as geographical area or type. Focus on the main intent, like habitat or location, and promote diverse sources. Engage with the user for feedback and further refinement.'"
      ]
     },
     "execution_count": 17,
     "metadata": {},
     "output_type": "execute_result"
    }
   ],
   "source": [
    "revisor_prompt.value"
   ]
  },
  {
   "cell_type": "code",
   "execution_count": 18,
   "id": "d3e685c5",
   "metadata": {},
   "outputs": [],
   "source": [
    "optimizer.zero_grad()"
   ]
  },
  {
   "cell_type": "code",
   "execution_count": null,
   "id": "5c8d665f",
   "metadata": {},
   "outputs": [],
   "source": []
  }
 ],
 "metadata": {
  "kernelspec": {
   "display_name": "Python 3 (ipykernel)",
   "language": "python",
   "name": "python3"
  },
  "language_info": {
   "codemirror_mode": {
    "name": "ipython",
    "version": 3
   },
   "file_extension": ".py",
   "mimetype": "text/x-python",
   "name": "python",
   "nbconvert_exporter": "python",
   "pygments_lexer": "ipython3",
   "version": "3.11.9"
  }
 },
 "nbformat": 4,
 "nbformat_minor": 5
}
