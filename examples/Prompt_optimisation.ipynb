{
 "cells": [
  {
   "cell_type": "markdown",
   "id": "d66880e8-23d9-4f00-b120-7f289f682511",
   "metadata": {},
   "source": [
    "# Prompt optimisation"
   ]
  },
  {
   "cell_type": "code",
   "execution_count": 28,
   "id": "36a9c615-17a0-455c-8f9c-f0d25fb8824b",
   "metadata": {
    "ExecuteTime": {
     "end_time": "2024-06-11T15:43:10.594204491Z",
     "start_time": "2024-06-11T15:43:10.589328053Z"
    }
   },
   "outputs": [],
   "source": [
    "from hone import get_instill_engine, GeneralStringFunction\n",
    "import textgrad as tg\n",
    "from textgrad.autograd.function import BackwardContext\n",
    "from instill.clients import init_pipeline_client\n",
    "from google.protobuf.json_format import MessageToDict\n",
    "import os\n",
    "pipeline = init_pipeline_client(api_token=os.environ[\"INSTILL_API_TOKEN\"])"
   ]
  },
  {
   "cell_type": "code",
   "execution_count": 29,
   "id": "9f8d37ea",
   "metadata": {},
   "outputs": [],
   "source": [
    "engine = get_instill_engine(\n",
    "    \"gpt-3.5-turbo\",\n",
    "    namespace_id=\"george_strong\",\n",
    "    pipeline_id=\"textgrad-engine\"\n",
    ")"
   ]
  },
  {
   "cell_type": "code",
   "execution_count": 30,
   "id": "f3888daf",
   "metadata": {},
   "outputs": [],
   "source": [
    "def retrieve_fn(revisor_prompt, user_query,\n",
    "                namespace_id=\"george_strong\",\n",
    "                catalog_name=\"brown_bears\",\n",
    "                top_k=7,\n",
    "                pipeline=pipeline):\n",
    "\n",
    "    retrieve_response = MessageToDict(\n",
    "        pipeline.trigger(\n",
    "            namespace_id=namespace_id,\n",
    "            pipeline_id=\"semantic-search\",\n",
    "            data=[{\n",
    "                \"catalog-name\": catalog_name,\n",
    "                \"namespace\": namespace_id,\n",
    "                \"revisor-prompt\": revisor_prompt.value,\n",
    "                \"top-k\": top_k,\n",
    "                \"user-query\": user_query.value\n",
    "            }]\n",
    "        )\n",
    "    )\n",
    "\n",
    "    return str(retrieve_response['outputs'][0]['retrieved-chunks'])"
   ]
  },
  {
   "cell_type": "code",
   "execution_count": 31,
   "id": "9e739f9d",
   "metadata": {},
   "outputs": [],
   "source": [
    "retrieve = GeneralStringFunction(\n",
    "    fn=retrieve_fn,\n",
    "    function_purpose=\"Revises the user query using the revisor prompt and then retrieves relevant chunks using the revised query\"\n",
    ")"
   ]
  },
  {
   "cell_type": "code",
   "execution_count": 32,
   "id": "f1f29320",
   "metadata": {},
   "outputs": [],
   "source": [
    "revisor_prompt = tg.Variable(\"do something\", role_description=\"The query revisor prompt. This instructs a LLM how to revise the user query for search. This should be completely general and not contain any specific details about the user query, only how to modify the query for search.\")\n",
    "user_query = tg.Variable(\"where do bears live?\", role_description=\"The user query\", requires_grad=False)\n",
    "\n",
    "test = retrieve(revisor_prompt, user_query)"
   ]
  },
  {
   "cell_type": "code",
   "execution_count": 16,
   "id": "612f6b73",
   "metadata": {},
   "outputs": [],
   "source": [
    "\n",
    "#test = retrieve(revisor_prompt, user_query)"
   ]
  },
  {
   "cell_type": "code",
   "execution_count": 33,
   "id": "ba154b18",
   "metadata": {},
   "outputs": [],
   "source": [
    "system_prompt = tg.Variable(\"Evaluate how relevant the retrieved chunks are to the user query.\", role_description=\"The system prompt\")\n",
    "loss = tg.TextLoss(system_prompt, engine=engine)"
   ]
  },
  {
   "cell_type": "code",
   "execution_count": 34,
   "id": "0f2fbd02",
   "metadata": {},
   "outputs": [],
   "source": [
    "optimizer = tg.TextualGradientDescent(parameters=[revisor_prompt], engine=engine)"
   ]
  },
  {
   "cell_type": "code",
   "execution_count": 35,
   "id": "6cfec0ba",
   "metadata": {},
   "outputs": [],
   "source": [
    "# Convert user query to a Variable with proper formatting\n",
    "user_query.value = f\"User Query: {user_query}\\n\\n\"\n",
    "\n",
    "# Format the test results variable\n",
    "test.value = f\"Retrieved Information:\\n{test.value}\""
   ]
  },
  {
   "cell_type": "code",
   "execution_count": 37,
   "id": "fd39773a",
   "metadata": {},
   "outputs": [
    {
     "name": "stdout",
     "output_type": "stream",
     "text": [
      "User Query: where do bears live?\n",
      "\n",
      "Retrieved Information:\n",
      "[{'chunk-uid': '24ba950a-7fbe-40dc-a30a-74866631ab2a', 'source-file-name': 'Brown_bear_factsheet.pdf', 'similarity-score': 0.63671845, 'text-content': 'Brown bears are truly omnivorous with a diet varying from habitat to habitat and from season to season. Although they generally have a reputation as fearsome predators, this is largely untrue; in most cases, the majority of their diet is of vegetative origin and can include grasses, sedges, forbs (flowering plants), nuts, berries, fruits, roots, tubers, and bulbs. In addition, and depending upon location, they also consume small mammals, reptiles, honey, insects, and fish (notably salmon).\\n\\n![Brown bear feeding on salmon in the Kodiak National Wildlife Refuge (US Fish & Wildlife Service)](image1.jpg)\\n\\n9 Brown Bear Fact Sheet [www.bearconservation.org.uk](http://www.bearconservation.org.uk) Working for Bears Worldwide\\n\\n### SOCIAL BEHAVIOUR'}, {'chunk-uid': '43559da2-acc7-428b-9ca2-333b07315011', 'text-content': 'The bears’ principal range includes parts of Russia, the United States, Canada, the Carpathian region (especially in Romania), the Balkans, Sweden, and Finland.\\n\\nBrown bears are omnivorous and typically are solitary animals, except for females with cubs. However, at times certain populations do congregate; for example, large gatherings occur during the Alaskan salmon spawning run. Dozens of bears may gather to feed on the fish to rapidly build up energy stores for their winter hibernation and they will eat as much as 40 kilograms of food each day.\\n\\nThe bears build winter dens for their hibernation and may lose as much as fifty percent of their body weight whilst hibernating. Pregnant females give birth during hibernation, in the den, usually to a pair of cubs. The cubs will remain with their mother for about two and a half years, during which time she will not become pregnant again.\\n\\n1 Brown Bear Fact Sheet [www.bearconservation.org.uk](http://www.bearconservation.org.uk) Working for Bears Worldwide', 'similarity-score': 0.6153878, 'source-file-name': 'Brown_bear_factsheet.pdf'}, {'chunk-uid': '5e387e93-6b6d-4327-b316-44d493b05fa7', 'text-content': '2 Brown Bear Fact Sheet [www.bearconservation.org.uk](http://www.bearconservation.org.uk) Working for Bears Worldwide\\n\\n## RANGE\\n\\nBrown bears are found in Afghanistan, Albania, Andorra, Armenia, Austria, Azerbaijan, Belarus, Bhutan (possibly extinct), Bosnia and Herzegovina, Bulgaria, Canada, China, Croatia, Czech Republic, Estonia, Finland, France, Georgia, Greece, India, Iraq, Iran, Italy, Japan, Kazakhstan, Democratic People’s Republic of Korea, Kyrgyzstan, Latvia, the Former Yugoslav Republic of Macedonia, Mongolia, Montenegro, Nepal, Norway, Pakistan, Poland, Romania, Russian Federation, Serbia, Slovakia, Slovenia, Spain, Sweden, Tajikistan, Turkey, Turkmenistan, Ukraine, United States (principally Alaska), and Uzbekistan. The brown bear is the most widely distributed of all bears.\\n\\n## RECOGNISED SUBSPECIES*', 'similarity-score': 0.5955989, 'source-file-name': 'Brown_bear_factsheet.pdf'}, {'chunk-uid': '7096efb8-ee57-48f7-b56a-b41cf980f3f5', 'text-content': '![Map showing brown bears in Europe](image4.png)\\n\\nBrown bears in Europe (Map supplied by the European Commission)\\n\\n**HABITAT**\\n\\n*Ursus arctos* inhabits a broader and more diverse range of habitats than any other bear species. They are found from as high as 5,000 metres in the Himalaya down to sea-level in a number of regions. They survive successfully in icy conditions and deserts, in forests and on tundra, in meadows and on coastlines. Their main requirements are dense cover in which to shelter, usually by day, and in cooler regions suitable places in which to build winter dens for hibernation. It seems likely that increasing encroachment by humans has caused brown bears to favour wooded and semi-wooded habitats whereas historically they would have favoured open or semi-open country at least as much.\\n### DIET', 'similarity-score': 0.5870834, 'source-file-name': 'Brown_bear_factsheet.pdf'}, {'chunk-uid': '7a19a4a0-c096-4490-a382-c972d5630cc2', 'source-file-name': 'Brown_bear_factsheet.pdf', 'similarity-score': 0.58307, 'text-content': '# Species Factsheet 2: Brown bear (Ursus arctos)\\n\\n![Brown bear in the Kodiak National Wildlife Refuge in Alaska (Steve Hillebrand/USFWS)](https://www.bearconservation.org.uk/wp-content/uploads/2020/06/Brown-bear-in-the-Kodiak-National-Wildlife-Refuge-in-Alaska-Steve-Hillebrand-USFWS.jpg)\\n\\n## OVERVIEW\\n\\nThe brown bear is the most widely distributed of all bears and is widespread in the forests and mountains of North America, Europe, and Asia with a relatively large global population that is currently stable. There are a number of sub-species.\\n\\nThe bears’ principal range includes parts of Russia, the United States, Canada, the Carpathian region (especially in Romania), the Balkans, Sweden, and Finland.'}, {'chunk-uid': 'c0d40c18-df79-41f9-8e68-2d48b0580b25', 'source-file-name': 'Brown_bear_factsheet.pdf', 'similarity-score': 0.5758122, 'text-content': 'For more specific descriptions of habitat, diet, and life cycle, please refer to the individual pages for each subspecies of brown bear and to the reading list.\\n\\n### CURRENT SITUATION\\n\\nProbably the single greatest threat to the brown bear populations of the world is habitat loss. These bears require large areas of wilderness, and their habitats are threatened by development, forestry, mining and oil prospecting, road building, climate change, and increasing recreational use. A knock-on effect of the destruction is increasing fragmentation of brown bear populations and sub-populations, leading to reduced breeding opportunities and a resultant reduction in genetic diversity.'}, {'chunk-uid': 'c7d85714-12fd-4464-9896-fbd4362ff4b8', 'text-content': 'Excluding European Russia there are thought to be around 14,000 brown bears in Europe and excluding Asian Russia there are thought to be around 30,000 in Asia.\\n\\n![Map showing brown bears in North America](image2.png)\\n\\nBrown bears in North America (Map supplied by USGS Northern Rocky Mountain Science Center)\\n\\n![Kodiak brown bear at Frazer Lake Weir](image3.png)\\n\\nKodiak brown bear (*Ursus arctos middendorffi*) at Frazer Lake Weir, Kodiak National Wildlife Refuge, Alaska. (Steve Hillebrand, US Fish & Wildlife Service)\\n\\n![Map showing brown bears in Europe](image4.png)\\n\\nBrown bears in Europe (Map supplied by the European Commission)\\n\\n**HABITAT**', 'similarity-score': 0.5688157, 'source-file-name': 'Brown_bear_factsheet.pdf'}]\n"
     ]
    }
   ],
   "source": [
    "print(user_query.value + test.value)"
   ]
  },
  {
   "cell_type": "code",
   "execution_count": 38,
   "id": "82d60e90",
   "metadata": {},
   "outputs": [
    {
     "name": "stderr",
     "output_type": "stream",
     "text": [
      "2024-12-10 09:18:19,147.147 INFO     LLMCall function forward\n"
     ]
    }
   ],
   "source": [
    "loss_value = loss(user_query + test)"
   ]
  },
  {
   "cell_type": "code",
   "execution_count": 39,
   "id": "6f5db046",
   "metadata": {},
   "outputs": [
    {
     "data": {
      "text/plain": [
       "'The retrieved information is relevant to the user query about where bears live. The chunks provide details about the habitat of brown bears, mentioning their range in countries like Russia, the United States, Canada, Europe, and Asia. The information also includes details about the diverse habitats where brown bears can be found, such as forests, mountains, tundra, meadows, and coastlines. Additionally, the chunks discuss the specific habitats required by brown bears for shelter and hibernation, as well as the threats to their habitats due to human activities like development, forestry, and climate change. Overall, the retrieved chunks provide relevant information about the habitats and ranges of bears in different regions.'"
      ]
     },
     "execution_count": 39,
     "metadata": {},
     "output_type": "execute_result"
    }
   ],
   "source": [
    "loss_value.value"
   ]
  },
  {
   "cell_type": "code",
   "execution_count": 40,
   "id": "6a0ba913",
   "metadata": {},
   "outputs": [
    {
     "name": "stderr",
     "output_type": "stream",
     "text": [
      "2024-12-10 09:18:42,103.103 INFO     _backward_through_llm prompt\n",
      "2024-12-10 09:18:45,233.233 INFO     _backward_through_llm gradient\n",
      "2024-12-10 09:18:45,235.235 INFO     _backward_through_llm prompt\n",
      "2024-12-10 09:18:50,134.134 INFO     _backward_through_llm gradient\n",
      "2024-12-10 09:18:50,135.135 INFO     Idempotent backward\n",
      "2024-12-10 09:18:50,136.136 INFO     Idempotent backward\n",
      "2024-12-10 09:18:50,136.136 INFO     _backward_through_string_fn\n",
      "2024-12-10 09:18:55,237.237 INFO     _backward_through_string_fn gradient\n"
     ]
    }
   ],
   "source": [
    "loss_value.backward(engine)"
   ]
  },
  {
   "cell_type": "code",
   "execution_count": 41,
   "id": "1e714f0b",
   "metadata": {},
   "outputs": [
    {
     "data": {
      "text/plain": [
       "{Variable(value=The current query revisor prompt \"do something\" is very vague and lacks specificity, which can limit the effectiveness of the search query revision process. To improve the system's performance and address the feedback provided, consider the following enhancements:\n",
       " \n",
       " 1. **Be Actionable**: Instead of a generic phrase like \"do something,\" provide specific actions or directives that guide the language model on how to revise the user query. For example, you could instruct the model to \"expand on bear habitats,\" \"include conservation information,\" or \"add geographic details.\"\n",
       " \n",
       " 2. **Focus on User Intent**: Tailor the revisor prompt to focus on understanding and fulfilling the user's intent behind the query. This could involve prompting the model to consider the user's likely information needs, such as \"enhance understanding of bear habitats\" or \"provide comprehensive bear habitat details.\"\n",
       " \n",
       " 3. **Encourage Depth and Variety**: Encourage the language model to delve deeper into the topic by prompting it to explore various aspects related to bear habitats, such as diet, behavior, conservation status, and geographical distribution. This can help diversify the retrieved information and provide a more comprehensive view.\n",
       " \n",
       " 4. **Include Search Context**: Provide context within the revisor prompt to guide the model on the specific context of the search query. For instance, you could specify the need for information on \"brown bear habitats\" or \"global distribution of bears,\" helping the model focus its revisions more effectively.\n",
       " \n",
       " 5. **Incorporate User Engagement**: Encourage the inclusion of engaging elements in the revised query by prompting the model to add interactive features, multimedia content, or visually appealing components. This can enhance user experience and make the information more captivating.\n",
       " \n",
       " By incorporating these improvements into the query revisor prompt, you can guide the language model to generate more relevant, diverse, and engaging search query revisions that align with the objectives outlined in the feedback., role=feedback to The query revisor prompt. This instructs a LLM how to revise the user query for search. This should be completely general and not contain any specific details about the user query, only how to modify the query for search., grads=set())}"
      ]
     },
     "execution_count": 41,
     "metadata": {},
     "output_type": "execute_result"
    }
   ],
   "source": [
    "revisor_prompt.gradients"
   ]
  },
  {
   "cell_type": "code",
   "execution_count": 42,
   "id": "70ec6f6c",
   "metadata": {},
   "outputs": [
    {
     "name": "stderr",
     "output_type": "stream",
     "text": [
      "2024-12-10 09:18:55,254.254 INFO     TextualGradientDescent prompt for update\n",
      "2024-12-10 09:18:58,040.040 INFO     TextualGradientDescent optimizer response\n",
      "2024-12-10 09:18:58,041.041 INFO     TextualGradientDescent updated text\n"
     ]
    }
   ],
   "source": [
    "optimizer.step()"
   ]
  },
  {
   "cell_type": "code",
   "execution_count": 43,
   "id": "96211c53",
   "metadata": {},
   "outputs": [
    {
     "data": {
      "text/plain": [
       "\"Retrieved Information:\\n[{'chunk-uid': '24ba950a-7fbe-40dc-a30a-74866631ab2a', 'source-file-name': 'Brown_bear_factsheet.pdf', 'similarity-score': 0.63671845, 'text-content': 'Brown bears are truly omnivorous with a diet varying from habitat to habitat and from season to season. Although they generally have a reputation as fearsome predators, this is largely untrue; in most cases, the majority of their diet is of vegetative origin and can include grasses, sedges, forbs (flowering plants), nuts, berries, fruits, roots, tubers, and bulbs. In addition, and depending upon location, they also consume small mammals, reptiles, honey, insects, and fish (notably salmon).\\\\n\\\\n![Brown bear feeding on salmon in the Kodiak National Wildlife Refuge (US Fish & Wildlife Service)](image1.jpg)\\\\n\\\\n9 Brown Bear Fact Sheet [www.bearconservation.org.uk](http://www.bearconservation.org.uk) Working for Bears Worldwide\\\\n\\\\n### SOCIAL BEHAVIOUR'}, {'chunk-uid': '43559da2-acc7-428b-9ca2-333b07315011', 'text-content': 'The bears’ principal range includes parts of Russia, the United States, Canada, the Carpathian region (especially in Romania), the Balkans, Sweden, and Finland.\\\\n\\\\nBrown bears are omnivorous and typically are solitary animals, except for females with cubs. However, at times certain populations do congregate; for example, large gatherings occur during the Alaskan salmon spawning run. Dozens of bears may gather to feed on the fish to rapidly build up energy stores for their winter hibernation and they will eat as much as 40 kilograms of food each day.\\\\n\\\\nThe bears build winter dens for their hibernation and may lose as much as fifty percent of their body weight whilst hibernating. Pregnant females give birth during hibernation, in the den, usually to a pair of cubs. The cubs will remain with their mother for about two and a half years, during which time she will not become pregnant again.\\\\n\\\\n1 Brown Bear Fact Sheet [www.bearconservation.org.uk](http://www.bearconservation.org.uk) Working for Bears Worldwide', 'similarity-score': 0.6153878, 'source-file-name': 'Brown_bear_factsheet.pdf'}, {'chunk-uid': '5e387e93-6b6d-4327-b316-44d493b05fa7', 'text-content': '2 Brown Bear Fact Sheet [www.bearconservation.org.uk](http://www.bearconservation.org.uk) Working for Bears Worldwide\\\\n\\\\n## RANGE\\\\n\\\\nBrown bears are found in Afghanistan, Albania, Andorra, Armenia, Austria, Azerbaijan, Belarus, Bhutan (possibly extinct), Bosnia and Herzegovina, Bulgaria, Canada, China, Croatia, Czech Republic, Estonia, Finland, France, Georgia, Greece, India, Iraq, Iran, Italy, Japan, Kazakhstan, Democratic People’s Republic of Korea, Kyrgyzstan, Latvia, the Former Yugoslav Republic of Macedonia, Mongolia, Montenegro, Nepal, Norway, Pakistan, Poland, Romania, Russian Federation, Serbia, Slovakia, Slovenia, Spain, Sweden, Tajikistan, Turkey, Turkmenistan, Ukraine, United States (principally Alaska), and Uzbekistan. The brown bear is the most widely distributed of all bears.\\\\n\\\\n## RECOGNISED SUBSPECIES*', 'similarity-score': 0.5955989, 'source-file-name': 'Brown_bear_factsheet.pdf'}, {'chunk-uid': '7096efb8-ee57-48f7-b56a-b41cf980f3f5', 'text-content': '![Map showing brown bears in Europe](image4.png)\\\\n\\\\nBrown bears in Europe (Map supplied by the European Commission)\\\\n\\\\n**HABITAT**\\\\n\\\\n*Ursus arctos* inhabits a broader and more diverse range of habitats than any other bear species. They are found from as high as 5,000 metres in the Himalaya down to sea-level in a number of regions. They survive successfully in icy conditions and deserts, in forests and on tundra, in meadows and on coastlines. Their main requirements are dense cover in which to shelter, usually by day, and in cooler regions suitable places in which to build winter dens for hibernation. It seems likely that increasing encroachment by humans has caused brown bears to favour wooded and semi-wooded habitats whereas historically they would have favoured open or semi-open country at least as much.\\\\n### DIET', 'similarity-score': 0.5870834, 'source-file-name': 'Brown_bear_factsheet.pdf'}, {'chunk-uid': '7a19a4a0-c096-4490-a382-c972d5630cc2', 'source-file-name': 'Brown_bear_factsheet.pdf', 'similarity-score': 0.58307, 'text-content': '# Species Factsheet 2: Brown bear (Ursus arctos)\\\\n\\\\n![Brown bear in the Kodiak National Wildlife Refuge in Alaska (Steve Hillebrand/USFWS)](https://www.bearconservation.org.uk/wp-content/uploads/2020/06/Brown-bear-in-the-Kodiak-National-Wildlife-Refuge-in-Alaska-Steve-Hillebrand-USFWS.jpg)\\\\n\\\\n## OVERVIEW\\\\n\\\\nThe brown bear is the most widely distributed of all bears and is widespread in the forests and mountains of North America, Europe, and Asia with a relatively large global population that is currently stable. There are a number of sub-species.\\\\n\\\\nThe bears’ principal range includes parts of Russia, the United States, Canada, the Carpathian region (especially in Romania), the Balkans, Sweden, and Finland.'}, {'chunk-uid': 'c0d40c18-df79-41f9-8e68-2d48b0580b25', 'source-file-name': 'Brown_bear_factsheet.pdf', 'similarity-score': 0.5758122, 'text-content': 'For more specific descriptions of habitat, diet, and life cycle, please refer to the individual pages for each subspecies of brown bear and to the reading list.\\\\n\\\\n### CURRENT SITUATION\\\\n\\\\nProbably the single greatest threat to the brown bear populations of the world is habitat loss. These bears require large areas of wilderness, and their habitats are threatened by development, forestry, mining and oil prospecting, road building, climate change, and increasing recreational use. A knock-on effect of the destruction is increasing fragmentation of brown bear populations and sub-populations, leading to reduced breeding opportunities and a resultant reduction in genetic diversity.'}, {'chunk-uid': 'c7d85714-12fd-4464-9896-fbd4362ff4b8', 'text-content': 'Excluding European Russia there are thought to be around 14,000 brown bears in Europe and excluding Asian Russia there are thought to be around 30,000 in Asia.\\\\n\\\\n![Map showing brown bears in North America](image2.png)\\\\n\\\\nBrown bears in North America (Map supplied by USGS Northern Rocky Mountain Science Center)\\\\n\\\\n![Kodiak brown bear at Frazer Lake Weir](image3.png)\\\\n\\\\nKodiak brown bear (*Ursus arctos middendorffi*) at Frazer Lake Weir, Kodiak National Wildlife Refuge, Alaska. (Steve Hillebrand, US Fish & Wildlife Service)\\\\n\\\\n![Map showing brown bears in Europe](image4.png)\\\\n\\\\nBrown bears in Europe (Map supplied by the European Commission)\\\\n\\\\n**HABITAT**', 'similarity-score': 0.5688157, 'source-file-name': 'Brown_bear_factsheet.pdf'}]\""
      ]
     },
     "execution_count": 43,
     "metadata": {},
     "output_type": "execute_result"
    }
   ],
   "source": [
    "test.value"
   ]
  },
  {
   "cell_type": "code",
   "execution_count": 44,
   "id": "bd7066cc",
   "metadata": {},
   "outputs": [
    {
     "data": {
      "text/plain": [
       "'Provide specific actions or directives that guide the language model on how to revise the user query, focusing on user intent, encouraging depth and variety, including search context, and incorporating user engagement.'"
      ]
     },
     "execution_count": 44,
     "metadata": {},
     "output_type": "execute_result"
    }
   ],
   "source": [
    "revisor_prompt.value"
   ]
  },
  {
   "cell_type": "code",
   "execution_count": 18,
   "id": "d3e685c5",
   "metadata": {},
   "outputs": [],
   "source": [
    "optimizer.zero_grad()"
   ]
  }
 ],
 "metadata": {
  "kernelspec": {
   "display_name": "Python 3 (ipykernel)",
   "language": "python",
   "name": "python3"
  },
  "language_info": {
   "codemirror_mode": {
    "name": "ipython",
    "version": 3
   },
   "file_extension": ".py",
   "mimetype": "text/x-python",
   "name": "python",
   "nbconvert_exporter": "python",
   "pygments_lexer": "ipython3",
   "version": "3.11.9"
  }
 },
 "nbformat": 4,
 "nbformat_minor": 5
}
